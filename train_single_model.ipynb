{
 "cells": [
  {
   "cell_type": "markdown",
   "id": "c06749b7",
   "metadata": {},
   "source": [
    "### 1. Framework imports"
   ]
  },
  {
   "cell_type": "code",
   "execution_count": 2,
   "id": "daf706ab",
   "metadata": {},
   "outputs": [],
   "source": [
    "import os\n",
    "import time\n",
    "import json\n",
    "import argparse\n",
    "\n",
    "import torch\n",
    "import numpy as np\n",
    "\n",
    "from pykeen.pipeline import pipeline\n",
    "from pykeen.datasets import get_dataset\n"
   ]
  },
  {
   "cell_type": "markdown",
   "id": "a261de46",
   "metadata": {},
   "source": [
    "### 2. Defining function for training and testing"
   ]
  },
  {
   "cell_type": "code",
   "execution_count": null,
   "id": "12d164b8",
   "metadata": {},
   "outputs": [],
   "source": [
    "def train_and_measure(\n",
    "    model_name: str,\n",
    "    dataset_name: str, \n",
    "    epochs: int = 100,\n",
    "    batch_size: int = 256,\n",
    "    device: str = 'cuda',\n",
    "    inference_batch_size: int = 1024,\n",
    "    output_dir: str = \"./pykeen_results\"):\n",
    "    os.makedirs(output_dir, exist_ok=True)\n",
    "\n",
    "    print(f\"Training model={model_name!r} on dataset={dataset_name!r} | epochs={epochs} | batch_size={batch_size} | device={device}\")\n",
    "\n",
    "    # 1) TREINO: tempo \"wall-clock\" medido externamente + pipeline() (que também retorna train_seconds)\n",
    "    t0 = time.perf_counter()\n",
    "    result = pipeline(\n",
    "        model=model_name,\n",
    "        dataset=dataset_name,\n",
    "        epochs=epochs,  # atalho para training_kwargs['num_epochs']\n",
    "        device=device,  # aceita 'cuda' / 'cpu' / torch.device\n",
    "        training_kwargs=dict(batch_size=batch_size, use_tqdm_batch=False),  # use_tqdm_batch=False para logs mais limpos\n",
    "    )\n",
    "    t1 = time.perf_counter()\n",
    "    wallclock_train_seconds = t1 - t0\n",
    "\n",
    "    # pipeline returns PipelineResult; try extrair os tempos informados internamente\n",
    "    train_seconds_reported = getattr(result, \"train_seconds\", None)\n",
    "    evaluate_seconds_reported = getattr(result, \"evaluat    e_seconds\", None)\n",
    "\n",
    "    print(f\"Wall-clock total (pipeline call) = {wallclock_train_seconds:.3f} s\")\n",
    "    if train_seconds_reported is not None:\n",
    "        print(f\"PipelineResult.train_seconds = {train_seconds_reported:.3f} s\")\n",
    "    if evaluate_seconds_reported is not None:\n",
    "        print(f\"PipelineResult.evaluate_seconds = {evaluate_seconds_reported:.3f} s\")\n",
    "    \n",
    "    # 2) PEGAR MODELO E DATASET (para inferência)\n",
    "    model = result.model  # modelo já treinado\n",
    "    # garantir que temos o dataset instanciado para acessar testing split\n",
    "    dataset = get_dataset(dataset_name) if isinstance(dataset_name, str) else dataset_name\n",
    "    if getattr(dataset, \"testing\", None) is None:\n",
    "        raise RuntimeError(\"O dataset não expõe uma divisão 'testing' -- verifique o dataset ou passe training/testing separadamente.\")\n",
    "\n",
    "    testing_mapped = dataset.testing.mapped_triples  # numpy array shape (n_triples, 3)\n",
    "    n_test = int(testing_mapped.shape[0])\n",
    "    print(f\"Test triples: {n_test}\")\n",
    "\n",
    "    # 3) INFERÊNCIA: medir tempo para pontuar TODOS os triples de teste em batches\n",
    "    # mover os tensores para o mesmo device do modelo\n",
    "    model_device = getattr(model, \"device\", torch.device(\"cpu\"))\n",
    "    if isinstance(model_device, str):\n",
    "        model_device = torch.device(model_device)\n",
    "    device_name = model_device\n",
    "\n",
    "    # torch tensor com índices (long)\n",
    "    triples_tensor = torch.tensor(testing_mapped, dtype=torch.long, device=device_name)\n",
    "\n",
    "    # iterar em batches e chamar model.score_hrt(...) para forçar forward pass\n",
    "    print(f\"Measuring inference (scoring) on device {device_name} with batch_size={inference_batch_size} ...\")\n",
    "    inference_batch = inference_batch_size\n",
    "    infer_t0 = time.perf_counter()\n",
    "    with torch.no_grad():\n",
    "        for i in range(0, n_test, inference_batch):\n",
    "            batch_triples = triples_tensor[i : i + inference_batch]  # shape (b,3)\n",
    "            scores = model.score_hrt(batch_triples)  # tensor (b,1) ou (b,)\n",
    "            # materialize para forçar computação (move para CPU e numpy)\n",
    "            _ = scores.cpu().numpy()\n",
    "    infer_t1 = time.perf_counter()\n",
    "    inference_seconds = infer_t1 - infer_t0\n",
    "    throughput = n_test / inference_seconds if inference_seconds > 0 else float(\"inf\")\n",
    "\n",
    "    print(f\"Inference total = {inference_seconds:.3f} s | avg per triple = {inference_seconds / n_test:.6f} s | throughput = {throughput:.2f} triples/s\")"
   ]
  },
  {
   "cell_type": "code",
   "execution_count": 22,
   "id": "a534fd79",
   "metadata": {},
   "outputs": [
    {
     "name": "stderr",
     "output_type": "stream",
     "text": [
      "WARNING:pykeen.pipeline.api:No random seed is specified. Setting to 1393515224.\n",
      "INFO:pykeen.datasets.utils:Caching preprocessed dataset to file:///C:/Users/grkremer/.data/pykeen/datasets/fb15k237/cache/47DEQpj8HBSa-_TImW-5JCeuQeRkm5NM\n",
      "INFO:pykeen.datasets.base:downloading data from https://download.microsoft.com/download/8/7/0/8700516A-AB3D-4850-B4BB-805C515AECE1/FB15K-237.2.zip to C:\\Users\\grkremer\\.data\\pykeen\\datasets\\fb15k237\\FB15K-237.2.zip\n"
     ]
    },
    {
     "name": "stdout",
     "output_type": "stream",
     "text": [
      "Training model='ComplEx' on dataset='FB15k-237' | epochs=100 | batch_size=256 | device=cuda\n"
     ]
    },
    {
     "data": {
      "application/vnd.jupyter.widget-view+json": {
       "model_id": "5de9ca0048f548b39276dfc3fd6c8ab9",
       "version_major": 2,
       "version_minor": 0
      },
      "text/plain": [
       "Downloading FB15K-237.2.zip: 0.00B [00:00, ?B/s]"
      ]
     },
     "metadata": {},
     "output_type": "display_data"
    },
    {
     "name": "stderr",
     "output_type": "stream",
     "text": [
      "WARNING:pykeen.triples.triples_factory:You're trying to map triples with 30 entities and 0 relations that are not in the training set. These triples will be excluded from the mapping.\n",
      "WARNING:pykeen.triples.triples_factory:In total 28 from 20466 triples were filtered out\n",
      "WARNING:pykeen.triples.triples_factory:You're trying to map triples with 9 entities and 0 relations that are not in the training set. These triples will be excluded from the mapping.\n",
      "WARNING:pykeen.triples.triples_factory:In total 9 from 17535 triples were filtered out\n",
      "INFO:pykeen.triples.triples_factory:Stored TriplesFactory(num_entities=14505, num_relations=237, create_inverse_triples=False, num_triples=272115, path=Release\\train.txt) to file:///C:/Users/grkremer/.data/pykeen/datasets/fb15k237/cache/47DEQpj8HBSa-_TImW-5JCeuQeRkm5NM/training\n",
      "INFO:pykeen.datasets.base:Stored training factory to file:///C:/Users/grkremer/.data/pykeen/datasets/fb15k237/cache/47DEQpj8HBSa-_TImW-5JCeuQeRkm5NM/training\n",
      "INFO:pykeen.triples.triples_factory:Stored TriplesFactory(num_entities=14505, num_relations=237, create_inverse_triples=False, num_triples=20438, path=Release\\test.txt) to file:///C:/Users/grkremer/.data/pykeen/datasets/fb15k237/cache/47DEQpj8HBSa-_TImW-5JCeuQeRkm5NM/testing\n",
      "INFO:pykeen.datasets.base:Stored testing factory to file:///C:/Users/grkremer/.data/pykeen/datasets/fb15k237/cache/47DEQpj8HBSa-_TImW-5JCeuQeRkm5NM/testing\n",
      "INFO:pykeen.triples.triples_factory:Stored TriplesFactory(num_entities=14505, num_relations=237, create_inverse_triples=False, num_triples=17526, path=Release\\valid.txt) to file:///C:/Users/grkremer/.data/pykeen/datasets/fb15k237/cache/47DEQpj8HBSa-_TImW-5JCeuQeRkm5NM/validation\n",
      "INFO:pykeen.datasets.base:Stored validation factory to file:///C:/Users/grkremer/.data/pykeen/datasets/fb15k237/cache/47DEQpj8HBSa-_TImW-5JCeuQeRkm5NM/validation\n",
      "INFO:pykeen.pipeline.api:Using device: cuda\n",
      "INFO:pykeen.nn.representation:Inferred unique=False for Embedding(\n",
      "  (regularizer): LpRegularizer()\n",
      ")\n",
      "INFO:pykeen.nn.representation:Inferred unique=False for Embedding(\n",
      "  (regularizer): LpRegularizer()\n",
      ")\n"
     ]
    },
    {
     "data": {
      "application/vnd.jupyter.widget-view+json": {
       "model_id": "5825a67136c24a1d8866bb557bb0c985",
       "version_major": 2,
       "version_minor": 0
      },
      "text/plain": [
       "Training epochs on cuda:0:   0%|          | 0/100 [00:00<?, ?epoch/s]"
      ]
     },
     "metadata": {},
     "output_type": "display_data"
    },
    {
     "data": {
      "application/vnd.jupyter.widget-view+json": {
       "model_id": "17212fdc35d4437eb971fff97561c33a",
       "version_major": 2,
       "version_minor": 0
      },
      "text/plain": [
       "Evaluating on cuda:0:   0%|          | 0.00/20.4k [00:00<?, ?triple/s]"
      ]
     },
     "metadata": {},
     "output_type": "display_data"
    },
    {
     "name": "stderr",
     "output_type": "stream",
     "text": [
      "INFO:pykeen.evaluation.evaluator:Evaluation took 157.16s seconds\n"
     ]
    },
    {
     "name": "stdout",
     "output_type": "stream",
     "text": [
      "Wall-clock total (pipeline call) = 1036.466 s\n",
      "PipelineResult.train_seconds = 850.288 s\n"
     ]
    },
    {
     "ename": "TypeError",
     "evalue": "get_dataset() takes 0 positional arguments but 1 was given",
     "output_type": "error",
     "traceback": [
      "\u001b[31m---------------------------------------------------------------------------\u001b[39m",
      "\u001b[31mTypeError\u001b[39m                                 Traceback (most recent call last)",
      "\u001b[36mCell\u001b[39m\u001b[36m \u001b[39m\u001b[32mIn[22]\u001b[39m\u001b[32m, line 1\u001b[39m\n\u001b[32m----> \u001b[39m\u001b[32m1\u001b[39m \u001b[43mtrain_and_measure\u001b[49m\u001b[43m(\u001b[49m\n\u001b[32m      2\u001b[39m \u001b[43m        \u001b[49m\u001b[43mmodel_name\u001b[49m\u001b[43m=\u001b[49m\u001b[33;43m'\u001b[39;49m\u001b[33;43mComplEx\u001b[39;49m\u001b[33;43m'\u001b[39;49m\u001b[43m,\u001b[49m\n\u001b[32m      3\u001b[39m \u001b[43m        \u001b[49m\u001b[43mdataset_name\u001b[49m\u001b[43m=\u001b[49m\u001b[33;43m'\u001b[39;49m\u001b[33;43mFB15k-237\u001b[39;49m\u001b[33;43m'\u001b[39;49m\u001b[43m,\u001b[49m\n\u001b[32m      4\u001b[39m \u001b[43m        \u001b[49m\u001b[43moutput_dir\u001b[49m\u001b[43m=\u001b[49m\u001b[33;43m'\u001b[39;49m\u001b[33;43m/pykeen_results\u001b[39;49m\u001b[33;43m'\u001b[39;49m\u001b[43m,\u001b[49m\n\u001b[32m      5\u001b[39m \u001b[43m    \u001b[49m\u001b[43m)\u001b[49m\n",
      "\u001b[36mCell\u001b[39m\u001b[36m \u001b[39m\u001b[32mIn[20]\u001b[39m\u001b[32m, line 37\u001b[39m, in \u001b[36mtrain_and_measure\u001b[39m\u001b[34m(model_name, dataset_name, epochs, batch_size, device, inference_batch_size, output_dir)\u001b[39m\n\u001b[32m     35\u001b[39m model = result.model  \u001b[38;5;66;03m# modelo já treinado\u001b[39;00m\n\u001b[32m     36\u001b[39m \u001b[38;5;66;03m# garantir que temos o dataset instanciado para acessar testing split\u001b[39;00m\n\u001b[32m---> \u001b[39m\u001b[32m37\u001b[39m dataset = \u001b[43mget_dataset\u001b[49m\u001b[43m(\u001b[49m\u001b[43mdataset_name\u001b[49m\u001b[43m)\u001b[49m \u001b[38;5;28;01mif\u001b[39;00m \u001b[38;5;28misinstance\u001b[39m(dataset_name, \u001b[38;5;28mstr\u001b[39m) \u001b[38;5;28;01melse\u001b[39;00m dataset_name\n\u001b[32m     38\u001b[39m \u001b[38;5;28;01mif\u001b[39;00m \u001b[38;5;28mgetattr\u001b[39m(dataset, \u001b[33m\"\u001b[39m\u001b[33mtesting\u001b[39m\u001b[33m\"\u001b[39m, \u001b[38;5;28;01mNone\u001b[39;00m) \u001b[38;5;129;01mis\u001b[39;00m \u001b[38;5;28;01mNone\u001b[39;00m:\n\u001b[32m     39\u001b[39m     \u001b[38;5;28;01mraise\u001b[39;00m \u001b[38;5;167;01mRuntimeError\u001b[39;00m(\u001b[33m\"\u001b[39m\u001b[33mO dataset não expõe uma divisão \u001b[39m\u001b[33m'\u001b[39m\u001b[33mtesting\u001b[39m\u001b[33m'\u001b[39m\u001b[33m -- verifique o dataset ou passe training/testing separadamente.\u001b[39m\u001b[33m\"\u001b[39m)\n",
      "\u001b[31mTypeError\u001b[39m: get_dataset() takes 0 positional arguments but 1 was given"
     ]
    }
   ],
   "source": [
    "train_and_measure(\n",
    "        model_name='ComplEx',\n",
    "        dataset_name='FB15k-237',\n",
    "        output_dir='/pykeen_results',\n",
    "    )"
   ]
  },
  {
   "cell_type": "code",
   "execution_count": 24,
   "id": "d9b9cde9",
   "metadata": {},
   "outputs": [
    {
     "name": "stderr",
     "output_type": "stream",
     "text": [
      "WARNING:pykeen.pipeline.api:No random seed is specified. Setting to 801544546.\n",
      "INFO:pykeen.datasets.utils:Loading cached preprocessed dataset from file:///C:/Users/grkremer/.data/pykeen/datasets/nations/cache/47DEQpj8HBSa-_TImW-5JCeuQeRkm5NM\n",
      "INFO:pykeen.triples.triples_factory:Loading from file:///C:/Users/grkremer/.data/pykeen/datasets/nations/cache/47DEQpj8HBSa-_TImW-5JCeuQeRkm5NM/training\n",
      "INFO:pykeen.triples.triples_factory:Loading from file:///C:/Users/grkremer/.data/pykeen/datasets/nations/cache/47DEQpj8HBSa-_TImW-5JCeuQeRkm5NM/testing\n",
      "INFO:pykeen.triples.triples_factory:Loading from file:///C:/Users/grkremer/.data/pykeen/datasets/nations/cache/47DEQpj8HBSa-_TImW-5JCeuQeRkm5NM/validation\n",
      "INFO:pykeen.pipeline.api:Using device: cuda\n",
      "INFO:pykeen.nn.representation:Inferred unique=False for Embedding()\n",
      "INFO:pykeen.nn.representation:Inferred unique=False for Embedding()\n"
     ]
    },
    {
     "name": "stdout",
     "output_type": "stream",
     "text": [
      "Training model='TransE' on dataset='Nations' | epochs=100 | batch_size=256 | device=cuda\n"
     ]
    },
    {
     "data": {
      "application/vnd.jupyter.widget-view+json": {
       "model_id": "b7e218c9831b49a6813ae15cea62dc25",
       "version_major": 2,
       "version_minor": 0
      },
      "text/plain": [
       "Training epochs on cuda:0:   0%|          | 0/100 [00:00<?, ?epoch/s]"
      ]
     },
     "metadata": {},
     "output_type": "display_data"
    },
    {
     "data": {
      "application/vnd.jupyter.widget-view+json": {
       "model_id": "6c9d1a3a021243c6b4f6408f57e1c699",
       "version_major": 2,
       "version_minor": 0
      },
      "text/plain": [
       "Evaluating on cuda:0:   0%|          | 0.00/201 [00:00<?, ?triple/s]"
      ]
     },
     "metadata": {},
     "output_type": "display_data"
    },
    {
     "name": "stderr",
     "output_type": "stream",
     "text": [
      "INFO:pykeen.evaluation.evaluator:Evaluation took 0.05s seconds\n"
     ]
    },
    {
     "name": "stdout",
     "output_type": "stream",
     "text": [
      "Wall-clock total (pipeline call) = 15.548 s\n",
      "PipelineResult.train_seconds = 15.474 s\n"
     ]
    },
    {
     "ename": "TypeError",
     "evalue": "get_dataset() takes 0 positional arguments but 1 was given",
     "output_type": "error",
     "traceback": [
      "\u001b[31m---------------------------------------------------------------------------\u001b[39m",
      "\u001b[31mTypeError\u001b[39m                                 Traceback (most recent call last)",
      "\u001b[36mCell\u001b[39m\u001b[36m \u001b[39m\u001b[32mIn[24]\u001b[39m\u001b[32m, line 1\u001b[39m\n\u001b[32m----> \u001b[39m\u001b[32m1\u001b[39m \u001b[43mtrain_and_measure\u001b[49m\u001b[43m(\u001b[49m\n\u001b[32m      2\u001b[39m \u001b[43m        \u001b[49m\u001b[43mmodel_name\u001b[49m\u001b[43m=\u001b[49m\u001b[33;43m'\u001b[39;49m\u001b[33;43mTransE\u001b[39;49m\u001b[33;43m'\u001b[39;49m\u001b[43m,\u001b[49m\n\u001b[32m      3\u001b[39m \u001b[43m        \u001b[49m\u001b[43mdataset_name\u001b[49m\u001b[43m=\u001b[49m\u001b[33;43m'\u001b[39;49m\u001b[33;43mNations\u001b[39;49m\u001b[33;43m'\u001b[39;49m\u001b[43m,\u001b[49m\n\u001b[32m      4\u001b[39m \u001b[43m        \u001b[49m\u001b[43moutput_dir\u001b[49m\u001b[43m=\u001b[49m\u001b[33;43m'\u001b[39;49m\u001b[33;43m/pykeen_results\u001b[39;49m\u001b[33;43m'\u001b[39;49m\u001b[43m,\u001b[49m\n\u001b[32m      5\u001b[39m \u001b[43m    \u001b[49m\u001b[43m)\u001b[49m\n",
      "\u001b[36mCell\u001b[39m\u001b[36m \u001b[39m\u001b[32mIn[20]\u001b[39m\u001b[32m, line 37\u001b[39m, in \u001b[36mtrain_and_measure\u001b[39m\u001b[34m(model_name, dataset_name, epochs, batch_size, device, inference_batch_size, output_dir)\u001b[39m\n\u001b[32m     35\u001b[39m model = result.model  \u001b[38;5;66;03m# modelo já treinado\u001b[39;00m\n\u001b[32m     36\u001b[39m \u001b[38;5;66;03m# garantir que temos o dataset instanciado para acessar testing split\u001b[39;00m\n\u001b[32m---> \u001b[39m\u001b[32m37\u001b[39m dataset = \u001b[43mget_dataset\u001b[49m\u001b[43m(\u001b[49m\u001b[43mdataset_name\u001b[49m\u001b[43m)\u001b[49m \u001b[38;5;28;01mif\u001b[39;00m \u001b[38;5;28misinstance\u001b[39m(dataset_name, \u001b[38;5;28mstr\u001b[39m) \u001b[38;5;28;01melse\u001b[39;00m dataset_name\n\u001b[32m     38\u001b[39m \u001b[38;5;28;01mif\u001b[39;00m \u001b[38;5;28mgetattr\u001b[39m(dataset, \u001b[33m\"\u001b[39m\u001b[33mtesting\u001b[39m\u001b[33m\"\u001b[39m, \u001b[38;5;28;01mNone\u001b[39;00m) \u001b[38;5;129;01mis\u001b[39;00m \u001b[38;5;28;01mNone\u001b[39;00m:\n\u001b[32m     39\u001b[39m     \u001b[38;5;28;01mraise\u001b[39;00m \u001b[38;5;167;01mRuntimeError\u001b[39;00m(\u001b[33m\"\u001b[39m\u001b[33mO dataset não expõe uma divisão \u001b[39m\u001b[33m'\u001b[39m\u001b[33mtesting\u001b[39m\u001b[33m'\u001b[39m\u001b[33m -- verifique o dataset ou passe training/testing separadamente.\u001b[39m\u001b[33m\"\u001b[39m)\n",
      "\u001b[31mTypeError\u001b[39m: get_dataset() takes 0 positional arguments but 1 was given"
     ]
    }
   ],
   "source": [
    "train_and_measure(\n",
    "        model_name='TransE',\n",
    "        dataset_name='Nations',\n",
    "        output_dir='/pykeen_results',\n",
    "    )"
   ]
  },
  {
   "cell_type": "code",
   "execution_count": 1,
   "id": "baee6c96",
   "metadata": {},
   "outputs": [
    {
     "name": "stdout",
     "output_type": "stream",
     "text": [
      "True\n"
     ]
    }
   ],
   "source": [
    "import torch\n",
    "print(torch.cuda.is_available())"
   ]
  },
  {
   "cell_type": "code",
   "execution_count": null,
   "id": "a31b4c4e",
   "metadata": {},
   "outputs": [],
   "source": []
  }
 ],
 "metadata": {
  "kernelspec": {
   "display_name": "base",
   "language": "python",
   "name": "python3"
  },
  "language_info": {
   "codemirror_mode": {
    "name": "ipython",
    "version": 3
   },
   "file_extension": ".py",
   "mimetype": "text/x-python",
   "name": "python",
   "nbconvert_exporter": "python",
   "pygments_lexer": "ipython3",
   "version": "3.13.5"
  }
 },
 "nbformat": 4,
 "nbformat_minor": 5
}
